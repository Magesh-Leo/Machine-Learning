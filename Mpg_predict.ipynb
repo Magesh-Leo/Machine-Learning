{
  "nbformat": 4,
  "nbformat_minor": 0,
  "metadata": {
    "colab": {
      "name": "Mpg_predict.ipynb",
      "provenance": [],
      "collapsed_sections": [],
      "toc_visible": true,
      "authorship_tag": "ABX9TyP3hWK/LybT7CsCmjHDJsxl",
      "include_colab_link": true
    },
    "kernelspec": {
      "name": "python3",
      "display_name": "Python 3"
    }
  },
  "cells": [
    {
      "cell_type": "markdown",
      "metadata": {
        "id": "view-in-github",
        "colab_type": "text"
      },
      "source": [
        "<a href=\"https://colab.research.google.com/github/Magesh-Leo/Machine-Learning/blob/master/Mpg_predict.ipynb\" target=\"_parent\"><img src=\"https://colab.research.google.com/assets/colab-badge.svg\" alt=\"Open In Colab\"/></a>"
      ]
    },
    {
      "cell_type": "code",
      "metadata": {
        "id": "5kPKCNBXQ_Kn",
        "colab_type": "code",
        "colab": {}
      },
      "source": [
        "import pandas as pd\n",
        "import numpy as np\n",
        "from sklearn import pipeline,preprocessing,metrics,model_selection,ensemble\n",
        "from sklearn_pandas import DataFrameMapper\n",
        "from sklearn.linear_model import LinearRegression"
      ],
      "execution_count": 2,
      "outputs": []
    },
    {
      "cell_type": "code",
      "metadata": {
        "id": "4lNtpV0_RfIQ",
        "colab_type": "code",
        "colab": {
          "base_uri": "https://localhost:8080/",
          "height": 204
        },
        "outputId": "33e7bb66-954b-4d70-8b88-2accb816b51d"
      },
      "source": [
        "df=pd.read_csv('auto_mpg.csv')\n",
        "df.head()"
      ],
      "execution_count": 4,
      "outputs": [
        {
          "output_type": "execute_result",
          "data": {
            "text/html": [
              "<div>\n",
              "<style scoped>\n",
              "    .dataframe tbody tr th:only-of-type {\n",
              "        vertical-align: middle;\n",
              "    }\n",
              "\n",
              "    .dataframe tbody tr th {\n",
              "        vertical-align: top;\n",
              "    }\n",
              "\n",
              "    .dataframe thead th {\n",
              "        text-align: right;\n",
              "    }\n",
              "</style>\n",
              "<table border=\"1\" class=\"dataframe\">\n",
              "  <thead>\n",
              "    <tr style=\"text-align: right;\">\n",
              "      <th></th>\n",
              "      <th>mpg</th>\n",
              "      <th>cylinders</th>\n",
              "      <th>displacement</th>\n",
              "      <th>horsepower</th>\n",
              "      <th>weight</th>\n",
              "      <th>acceleration</th>\n",
              "      <th>model year</th>\n",
              "      <th>origin</th>\n",
              "      <th>car name</th>\n",
              "    </tr>\n",
              "  </thead>\n",
              "  <tbody>\n",
              "    <tr>\n",
              "      <th>0</th>\n",
              "      <td>18.0</td>\n",
              "      <td>8</td>\n",
              "      <td>307.0</td>\n",
              "      <td>130</td>\n",
              "      <td>3504</td>\n",
              "      <td>12.0</td>\n",
              "      <td>70</td>\n",
              "      <td>1</td>\n",
              "      <td>chevrolet chevelle malibu</td>\n",
              "    </tr>\n",
              "    <tr>\n",
              "      <th>1</th>\n",
              "      <td>15.0</td>\n",
              "      <td>8</td>\n",
              "      <td>350.0</td>\n",
              "      <td>165</td>\n",
              "      <td>3693</td>\n",
              "      <td>11.5</td>\n",
              "      <td>70</td>\n",
              "      <td>1</td>\n",
              "      <td>buick skylark 320</td>\n",
              "    </tr>\n",
              "    <tr>\n",
              "      <th>2</th>\n",
              "      <td>18.0</td>\n",
              "      <td>8</td>\n",
              "      <td>318.0</td>\n",
              "      <td>150</td>\n",
              "      <td>3436</td>\n",
              "      <td>11.0</td>\n",
              "      <td>70</td>\n",
              "      <td>1</td>\n",
              "      <td>plymouth satellite</td>\n",
              "    </tr>\n",
              "    <tr>\n",
              "      <th>3</th>\n",
              "      <td>16.0</td>\n",
              "      <td>8</td>\n",
              "      <td>304.0</td>\n",
              "      <td>150</td>\n",
              "      <td>3433</td>\n",
              "      <td>12.0</td>\n",
              "      <td>70</td>\n",
              "      <td>1</td>\n",
              "      <td>amc rebel sst</td>\n",
              "    </tr>\n",
              "    <tr>\n",
              "      <th>4</th>\n",
              "      <td>17.0</td>\n",
              "      <td>8</td>\n",
              "      <td>302.0</td>\n",
              "      <td>140</td>\n",
              "      <td>3449</td>\n",
              "      <td>10.5</td>\n",
              "      <td>70</td>\n",
              "      <td>1</td>\n",
              "      <td>ford torino</td>\n",
              "    </tr>\n",
              "  </tbody>\n",
              "</table>\n",
              "</div>"
            ],
            "text/plain": [
              "    mpg  cylinders  displacement  ... model year  origin                   car name\n",
              "0  18.0          8         307.0  ...         70       1  chevrolet chevelle malibu\n",
              "1  15.0          8         350.0  ...         70       1          buick skylark 320\n",
              "2  18.0          8         318.0  ...         70       1         plymouth satellite\n",
              "3  16.0          8         304.0  ...         70       1              amc rebel sst\n",
              "4  17.0          8         302.0  ...         70       1                ford torino\n",
              "\n",
              "[5 rows x 9 columns]"
            ]
          },
          "metadata": {
            "tags": []
          },
          "execution_count": 4
        }
      ]
    },
    {
      "cell_type": "code",
      "metadata": {
        "id": "xvNzUCyYRhsE",
        "colab_type": "code",
        "colab": {
          "base_uri": "https://localhost:8080/",
          "height": 187
        },
        "outputId": "7757c502-7d21-4ffb-c2af-296ef200e5db"
      },
      "source": [
        "df.isnull().sum()"
      ],
      "execution_count": 5,
      "outputs": [
        {
          "output_type": "execute_result",
          "data": {
            "text/plain": [
              "mpg             0\n",
              "cylinders       0\n",
              "displacement    0\n",
              "horsepower      0\n",
              "weight          0\n",
              "acceleration    0\n",
              "model year      0\n",
              "origin          0\n",
              "car name        0\n",
              "dtype: int64"
            ]
          },
          "metadata": {
            "tags": []
          },
          "execution_count": 5
        }
      ]
    },
    {
      "cell_type": "code",
      "metadata": {
        "id": "9PEceEFIUjHd",
        "colab_type": "code",
        "colab": {
          "base_uri": "https://localhost:8080/",
          "height": 68
        },
        "outputId": "a272d9a2-7663-44bb-cc55-d2f2c833432a"
      },
      "source": [
        "df.columns"
      ],
      "execution_count": 6,
      "outputs": [
        {
          "output_type": "execute_result",
          "data": {
            "text/plain": [
              "Index(['mpg', 'cylinders', 'displacement', 'horsepower', 'weight',\n",
              "       'acceleration', 'model year', 'origin', 'car name'],\n",
              "      dtype='object')"
            ]
          },
          "metadata": {
            "tags": []
          },
          "execution_count": 6
        }
      ]
    },
    {
      "cell_type": "code",
      "metadata": {
        "id": "NqZmCLMlUQOr",
        "colab_type": "code",
        "colab": {}
      },
      "source": [
        "mapper=DataFrameMapper([\n",
        "                        (['cylinders', 'displacement','weight','acceleration', 'model year'],preprocessing.StandardScaler()),\n",
        "                        (['origin'],preprocessing.OneHotEncoder())\n",
        "])"
      ],
      "execution_count": 7,
      "outputs": []
    },
    {
      "cell_type": "code",
      "metadata": {
        "id": "y4CkAmqrmjwW",
        "colab_type": "code",
        "colab": {
          "base_uri": "https://localhost:8080/",
          "height": 204
        },
        "outputId": "7f5963bc-9144-4892-ea11-d656f447e81b"
      },
      "source": [
        "mapper"
      ],
      "execution_count": 50,
      "outputs": [
        {
          "output_type": "execute_result",
          "data": {
            "text/plain": [
              "DataFrameMapper(default=False, df_out=False,\n",
              "                features=[(['cylinders', 'displacement', 'weight',\n",
              "                            'acceleration', 'model year'],\n",
              "                           StandardScaler(copy=True, with_mean=True,\n",
              "                                          with_std=True)),\n",
              "                          (['origin'],\n",
              "                           OneHotEncoder(categories='auto', drop=None,\n",
              "                                         dtype=<class 'numpy.float64'>,\n",
              "                                         handle_unknown='error',\n",
              "                                         sparse=True))],\n",
              "                input_df=False, sparse=False)"
            ]
          },
          "metadata": {
            "tags": []
          },
          "execution_count": 50
        }
      ]
    },
    {
      "cell_type": "code",
      "metadata": {
        "id": "8_VRmr8NVjDL",
        "colab_type": "code",
        "colab": {}
      },
      "source": [
        "pipeline_obj=pipeline.Pipeline([\n",
        "                                ('mapper',mapper),\n",
        "                                ('model',ensemble.RandomForestRegressor())\n",
        "\n",
        "])"
      ],
      "execution_count": 51,
      "outputs": []
    },
    {
      "cell_type": "code",
      "metadata": {
        "id": "swKzYL2GWX5h",
        "colab_type": "code",
        "colab": {}
      },
      "source": [
        "X=['cylinders', 'displacement', 'horsepower', 'weight',\n",
        "       'acceleration', 'model year', 'origin']\n",
        "y=['mpg']"
      ],
      "execution_count": 52,
      "outputs": []
    },
    {
      "cell_type": "code",
      "metadata": {
        "id": "3RczAQqgWyoA",
        "colab_type": "code",
        "colab": {
          "base_uri": "https://localhost:8080/",
          "height": 547
        },
        "outputId": "f6a39f7c-b65e-43e6-b31f-2d290b3773cc"
      },
      "source": [
        "pipeline_obj.fit(df[X],df[y])\n"
      ],
      "execution_count": 53,
      "outputs": [
        {
          "output_type": "stream",
          "text": [
            "/usr/local/lib/python3.6/dist-packages/sklearn/pipeline.py:354: DataConversionWarning: A column-vector y was passed when a 1d array was expected. Please change the shape of y to (n_samples,), for example using ravel().\n",
            "  self._final_estimator.fit(Xt, y, **fit_params)\n"
          ],
          "name": "stderr"
        },
        {
          "output_type": "execute_result",
          "data": {
            "text/plain": [
              "Pipeline(memory=None,\n",
              "         steps=[('mapper',\n",
              "                 DataFrameMapper(default=False, df_out=False,\n",
              "                                 features=[(['cylinders', 'displacement',\n",
              "                                             'weight', 'acceleration',\n",
              "                                             'model year'],\n",
              "                                            StandardScaler(copy=True,\n",
              "                                                           with_mean=True,\n",
              "                                                           with_std=True)),\n",
              "                                           (['origin'],\n",
              "                                            OneHotEncoder(categories='auto',\n",
              "                                                          drop=None,\n",
              "                                                          dtype=<class 'numpy.float64'>,\n",
              "                                                          handle_unknown='error',\n",
              "                                                          sparse=True))],\n",
              "                                 input_df=False, s...\n",
              "                 RandomForestRegressor(bootstrap=True, ccp_alpha=0.0,\n",
              "                                       criterion='mse', max_depth=None,\n",
              "                                       max_features='auto', max_leaf_nodes=None,\n",
              "                                       max_samples=None,\n",
              "                                       min_impurity_decrease=0.0,\n",
              "                                       min_impurity_split=None,\n",
              "                                       min_samples_leaf=1, min_samples_split=2,\n",
              "                                       min_weight_fraction_leaf=0.0,\n",
              "                                       n_estimators=100, n_jobs=None,\n",
              "                                       oob_score=False, random_state=None,\n",
              "                                       verbose=0, warm_start=False))],\n",
              "         verbose=False)"
            ]
          },
          "metadata": {
            "tags": []
          },
          "execution_count": 53
        }
      ]
    },
    {
      "cell_type": "code",
      "metadata": {
        "id": "bQ_gu7iDXHKO",
        "colab_type": "code",
        "colab": {
          "base_uri": "https://localhost:8080/",
          "height": 867
        },
        "outputId": "2c2fa84d-5d83-4afc-df44-c5a6d51f536f"
      },
      "source": [
        "pipeline_obj.predict(df[X])"
      ],
      "execution_count": 54,
      "outputs": [
        {
          "output_type": "execute_result",
          "data": {
            "text/plain": [
              "array([17.05 , 14.53 , 17.13 , 16.14 , 16.88 , 14.58 , 13.915, 14.23 ,\n",
              "       13.455, 14.84 , 14.89 , 14.42 , 14.94 , 14.22 , 23.97 , 21.08 ,\n",
              "       19.46 , 20.78 , 27.01 , 26.735, 24.525, 24.498, 24.95 , 25.42 ,\n",
              "       20.76 , 10.4  , 10.56 , 11.75 ,  9.82 , 27.04 , 26.725, 24.852,\n",
              "       26.525, 20.078, 16.823, 17.56 , 18.62 , 18.26 , 14.01 , 13.635,\n",
              "       14.055, 14.23 , 12.26 , 12.92 , 12.68 , 18.4  , 21.831, 18.722,\n",
              "       18.19 , 23.49 , 27.425, 29.6  , 29.239, 31.599, 32.955, 27.33 ,\n",
              "       26.935, 24.257, 25.485, 22.81 , 20.661, 22.359, 13.49 , 13.615,\n",
              "       14.59 , 13.895, 16.03 , 12.   , 12.66 , 12.38 , 13.205, 20.94 ,\n",
              "       14.91 , 13.55 , 13.22 , 13.995, 19.12 , 22.27 , 20.641, 25.955,\n",
              "       22.41 , 26.6  , 22.922, 26.93 , 27.02 , 13.5  , 14.47 , 13.35 ,\n",
              "       14.06 , 14.645, 12.01 , 13.17 , 13.09 , 14.09 , 12.59 , 12.04 ,\n",
              "       13.19 , 18.556, 16.25 , 18.41 , 17.835, 21.622, 26.285, 11.41 ,\n",
              "       12.14 , 12.82 , 12.44 , 18.68 , 21.805, 20.881, 23.219, 21.874,\n",
              "       20.015, 21.247, 25.729, 14.39 , 15.135, 28.763, 24.79 , 21.296,\n",
              "       19.611, 15.05 , 23.106, 20.174, 12.2  , 20.004, 20.936, 19.342,\n",
              "       15.985, 31.341, 25.24 , 31.923, 24.691, 15.83 , 16.037, 17.772,\n",
              "       15.21 , 13.355, 14.055, 13.71 , 14.06 , 27.98 , 27.415, 26.049,\n",
              "       31.91 , 31.67 , 27.38 , 25.53 , 25.826, 24.168, 25.657, 29.985,\n",
              "       19.057, 17.81 , 15.741, 15.622, 15.095, 15.05 , 15.46 , 14.145,\n",
              "       17.422, 16.02 , 15.557, 17.506, 20.312, 19.787, 14.685, 28.43 ,\n",
              "       23.35 , 19.857, 22.791, 24.222, 25.9  , 24.055, 18.943, 28.695,\n",
              "       18.892, 23.471, 22.426, 21.227, 24.375, 32.312, 26.8  , 25.109,\n",
              "       24.859, 26.138, 27.15 , 16.53 , 15.83 , 15.121, 14.975, 21.302,\n",
              "       20.548, 22.652, 21.686, 29.652, 25.724, 29.055, 32.703, 19.517,\n",
              "       18.553, 18.339, 18.364, 29.375, 31.89 , 27.965, 25.765, 20.142,\n",
              "       13.685, 20.115, 19.801, 16.908, 15.81 , 13.96 , 14.03 , 13.616,\n",
              "       31.72 , 29.531, 33.799, 25.522, 32.81 , 16.792, 16.983, 15.71 ,\n",
              "       15.484, 17.855, 20.314, 19.062, 18.411, 15.825, 15.59 , 15.625,\n",
              "       15.797, 29.766, 24.574, 26.261, 24.794, 31.016, 32.353, 30.545,\n",
              "       29.646, 21.845, 23.257, 22.569, 40.766, 35.579, 34.103, 37.382,\n",
              "       35.563, 19.705, 19.095, 19.577, 19.281, 20.431, 20.719, 24.925,\n",
              "       20.092, 19.8  , 20.412, 20.678, 18.855, 18.698, 19.148, 18.465,\n",
              "       18.129, 17.298, 30.544, 26.073, 26.811, 29.653, 23.167, 23.696,\n",
              "       23.045, 24.434, 21.432, 17.575, 21.885, 17.139, 32.974, 30.372,\n",
              "       21.222, 20.743, 23.237, 20.297, 20.39 , 17.447, 18.127, 17.098,\n",
              "       17.82 , 16.732, 16.227, 19.584, 17.892, 34.103, 34.334, 35.589,\n",
              "       28.269, 25.452, 21.253, 26.503, 22.063, 34.214, 35.142, 34.826,\n",
              "       37.605, 27.85 , 27.292, 26.047, 31.894, 39.209, 37.781, 33.33 ,\n",
              "       37.306, 27.872, 26.031, 25.118, 20.121, 34.068, 29.618, 31.852,\n",
              "       35.31 , 33.277, 43.381, 27.084, 40.779, 43.825, 40.71 , 33.324,\n",
              "       28.311, 39.415, 39.457, 35.172, 32.622, 29.655, 28.616, 34.306,\n",
              "       24.48 , 32.793, 28.4  , 26.798, 26.437, 24.344, 30.69 , 38.319,\n",
              "       38.152, 36.016, 33.899, 37.146, 36.995, 34.507, 34.573, 34.714,\n",
              "       31.539, 33.68 , 34.207, 33.98 , 32.783, 32.652, 31.327, 27.976,\n",
              "       27.847, 25.938, 25.511, 21.621, 24.337, 21.085, 19.203, 28.427,\n",
              "       27.922, 33.005, 30.083, 29.119, 26.93 , 25.132, 23.965, 35.338,\n",
              "       36.265, 32.957, 37.66 , 35.707, 35.819, 35.259, 33.901, 36.33 ,\n",
              "       33.187, 36.55 , 25.895, 31.297, 26.942, 25.218, 30.565, 34.104,\n",
              "       25.975, 26.897, 42.959, 32.331, 28.198, 29.406])"
            ]
          },
          "metadata": {
            "tags": []
          },
          "execution_count": 54
        }
      ]
    },
    {
      "cell_type": "code",
      "metadata": {
        "id": "uv07VlzWXanc",
        "colab_type": "code",
        "colab": {}
      },
      "source": [
        "from sklearn.externals import joblib"
      ],
      "execution_count": 55,
      "outputs": []
    },
    {
      "cell_type": "code",
      "metadata": {
        "id": "i9_F5P0NXmde",
        "colab_type": "code",
        "colab": {
          "base_uri": "https://localhost:8080/",
          "height": 34
        },
        "outputId": "39b2fe8f-9eab-4ba6-88d5-453d3eb44e4f"
      },
      "source": [
        "joblib.dump(pipeline_obj,'RFMautompg.pkl')"
      ],
      "execution_count": 56,
      "outputs": [
        {
          "output_type": "execute_result",
          "data": {
            "text/plain": [
              "['RFMautompg.pkl']"
            ]
          },
          "metadata": {
            "tags": []
          },
          "execution_count": 56
        }
      ]
    },
    {
      "cell_type": "code",
      "metadata": {
        "id": "Q4oPRlQ0XmMH",
        "colab_type": "code",
        "colab": {}
      },
      "source": [
        "model_reload=joblib.load('RFMautompg.pkl')"
      ],
      "execution_count": 58,
      "outputs": []
    },
    {
      "cell_type": "code",
      "metadata": {
        "id": "1wmat4iUYQK_",
        "colab_type": "code",
        "colab": {
          "base_uri": "https://localhost:8080/",
          "height": 867
        },
        "outputId": "4ade66b1-9030-45db-f505-5b6e705c983f"
      },
      "source": [
        "model_reload.predict(df[X])"
      ],
      "execution_count": 59,
      "outputs": [
        {
          "output_type": "execute_result",
          "data": {
            "text/plain": [
              "array([17.05 , 14.53 , 17.13 , 16.14 , 16.88 , 14.58 , 13.915, 14.23 ,\n",
              "       13.455, 14.84 , 14.89 , 14.42 , 14.94 , 14.22 , 23.97 , 21.08 ,\n",
              "       19.46 , 20.78 , 27.01 , 26.735, 24.525, 24.498, 24.95 , 25.42 ,\n",
              "       20.76 , 10.4  , 10.56 , 11.75 ,  9.82 , 27.04 , 26.725, 24.852,\n",
              "       26.525, 20.078, 16.823, 17.56 , 18.62 , 18.26 , 14.01 , 13.635,\n",
              "       14.055, 14.23 , 12.26 , 12.92 , 12.68 , 18.4  , 21.831, 18.722,\n",
              "       18.19 , 23.49 , 27.425, 29.6  , 29.239, 31.599, 32.955, 27.33 ,\n",
              "       26.935, 24.257, 25.485, 22.81 , 20.661, 22.359, 13.49 , 13.615,\n",
              "       14.59 , 13.895, 16.03 , 12.   , 12.66 , 12.38 , 13.205, 20.94 ,\n",
              "       14.91 , 13.55 , 13.22 , 13.995, 19.12 , 22.27 , 20.641, 25.955,\n",
              "       22.41 , 26.6  , 22.922, 26.93 , 27.02 , 13.5  , 14.47 , 13.35 ,\n",
              "       14.06 , 14.645, 12.01 , 13.17 , 13.09 , 14.09 , 12.59 , 12.04 ,\n",
              "       13.19 , 18.556, 16.25 , 18.41 , 17.835, 21.622, 26.285, 11.41 ,\n",
              "       12.14 , 12.82 , 12.44 , 18.68 , 21.805, 20.881, 23.219, 21.874,\n",
              "       20.015, 21.247, 25.729, 14.39 , 15.135, 28.763, 24.79 , 21.296,\n",
              "       19.611, 15.05 , 23.106, 20.174, 12.2  , 20.004, 20.936, 19.342,\n",
              "       15.985, 31.341, 25.24 , 31.923, 24.691, 15.83 , 16.037, 17.772,\n",
              "       15.21 , 13.355, 14.055, 13.71 , 14.06 , 27.98 , 27.415, 26.049,\n",
              "       31.91 , 31.67 , 27.38 , 25.53 , 25.826, 24.168, 25.657, 29.985,\n",
              "       19.057, 17.81 , 15.741, 15.622, 15.095, 15.05 , 15.46 , 14.145,\n",
              "       17.422, 16.02 , 15.557, 17.506, 20.312, 19.787, 14.685, 28.43 ,\n",
              "       23.35 , 19.857, 22.791, 24.222, 25.9  , 24.055, 18.943, 28.695,\n",
              "       18.892, 23.471, 22.426, 21.227, 24.375, 32.312, 26.8  , 25.109,\n",
              "       24.859, 26.138, 27.15 , 16.53 , 15.83 , 15.121, 14.975, 21.302,\n",
              "       20.548, 22.652, 21.686, 29.652, 25.724, 29.055, 32.703, 19.517,\n",
              "       18.553, 18.339, 18.364, 29.375, 31.89 , 27.965, 25.765, 20.142,\n",
              "       13.685, 20.115, 19.801, 16.908, 15.81 , 13.96 , 14.03 , 13.616,\n",
              "       31.72 , 29.531, 33.799, 25.522, 32.81 , 16.792, 16.983, 15.71 ,\n",
              "       15.484, 17.855, 20.314, 19.062, 18.411, 15.825, 15.59 , 15.625,\n",
              "       15.797, 29.766, 24.574, 26.261, 24.794, 31.016, 32.353, 30.545,\n",
              "       29.646, 21.845, 23.257, 22.569, 40.766, 35.579, 34.103, 37.382,\n",
              "       35.563, 19.705, 19.095, 19.577, 19.281, 20.431, 20.719, 24.925,\n",
              "       20.092, 19.8  , 20.412, 20.678, 18.855, 18.698, 19.148, 18.465,\n",
              "       18.129, 17.298, 30.544, 26.073, 26.811, 29.653, 23.167, 23.696,\n",
              "       23.045, 24.434, 21.432, 17.575, 21.885, 17.139, 32.974, 30.372,\n",
              "       21.222, 20.743, 23.237, 20.297, 20.39 , 17.447, 18.127, 17.098,\n",
              "       17.82 , 16.732, 16.227, 19.584, 17.892, 34.103, 34.334, 35.589,\n",
              "       28.269, 25.452, 21.253, 26.503, 22.063, 34.214, 35.142, 34.826,\n",
              "       37.605, 27.85 , 27.292, 26.047, 31.894, 39.209, 37.781, 33.33 ,\n",
              "       37.306, 27.872, 26.031, 25.118, 20.121, 34.068, 29.618, 31.852,\n",
              "       35.31 , 33.277, 43.381, 27.084, 40.779, 43.825, 40.71 , 33.324,\n",
              "       28.311, 39.415, 39.457, 35.172, 32.622, 29.655, 28.616, 34.306,\n",
              "       24.48 , 32.793, 28.4  , 26.798, 26.437, 24.344, 30.69 , 38.319,\n",
              "       38.152, 36.016, 33.899, 37.146, 36.995, 34.507, 34.573, 34.714,\n",
              "       31.539, 33.68 , 34.207, 33.98 , 32.783, 32.652, 31.327, 27.976,\n",
              "       27.847, 25.938, 25.511, 21.621, 24.337, 21.085, 19.203, 28.427,\n",
              "       27.922, 33.005, 30.083, 29.119, 26.93 , 25.132, 23.965, 35.338,\n",
              "       36.265, 32.957, 37.66 , 35.707, 35.819, 35.259, 33.901, 36.33 ,\n",
              "       33.187, 36.55 , 25.895, 31.297, 26.942, 25.218, 30.565, 34.104,\n",
              "       25.975, 26.897, 42.959, 32.331, 28.198, 29.406])"
            ]
          },
          "metadata": {
            "tags": []
          },
          "execution_count": 59
        }
      ]
    },
    {
      "cell_type": "code",
      "metadata": {
        "id": "tuYQP4zXYdN_",
        "colab_type": "code",
        "colab": {}
      },
      "source": [
        "#X=['cylinders', 'displacement', 'horsepower', 'weight',\n",
        "#       'acceleration', 'model year', 'origin']\n",
        "temp={}\n",
        "temp['cylinders']=1\n",
        "temp['displacement']=2\n",
        "temp['horsepower']=3\n",
        "temp['weight']=4\n",
        "temp['acceleration']=5\n",
        "temp['model year']=6\n",
        "temp['origin']=1"
      ],
      "execution_count": 65,
      "outputs": []
    },
    {
      "cell_type": "code",
      "metadata": {
        "id": "9bfl7ZYQZAkR",
        "colab_type": "code",
        "colab": {}
      },
      "source": [
        "testdata=pd.DataFrame({'x':temp}).transpose()"
      ],
      "execution_count": 66,
      "outputs": []
    },
    {
      "cell_type": "code",
      "metadata": {
        "id": "B365GP4xmBdU",
        "colab_type": "code",
        "colab": {
          "base_uri": "https://localhost:8080/",
          "height": 80
        },
        "outputId": "a3f05c5a-9ceb-4014-d64e-698c1e2e7675"
      },
      "source": [
        "testdata"
      ],
      "execution_count": 67,
      "outputs": [
        {
          "output_type": "execute_result",
          "data": {
            "text/html": [
              "<div>\n",
              "<style scoped>\n",
              "    .dataframe tbody tr th:only-of-type {\n",
              "        vertical-align: middle;\n",
              "    }\n",
              "\n",
              "    .dataframe tbody tr th {\n",
              "        vertical-align: top;\n",
              "    }\n",
              "\n",
              "    .dataframe thead th {\n",
              "        text-align: right;\n",
              "    }\n",
              "</style>\n",
              "<table border=\"1\" class=\"dataframe\">\n",
              "  <thead>\n",
              "    <tr style=\"text-align: right;\">\n",
              "      <th></th>\n",
              "      <th>acceleration</th>\n",
              "      <th>cylinders</th>\n",
              "      <th>displacement</th>\n",
              "      <th>horsepower</th>\n",
              "      <th>model year</th>\n",
              "      <th>origin</th>\n",
              "      <th>weight</th>\n",
              "    </tr>\n",
              "  </thead>\n",
              "  <tbody>\n",
              "    <tr>\n",
              "      <th>x</th>\n",
              "      <td>5</td>\n",
              "      <td>1</td>\n",
              "      <td>2</td>\n",
              "      <td>3</td>\n",
              "      <td>6</td>\n",
              "      <td>1</td>\n",
              "      <td>4</td>\n",
              "    </tr>\n",
              "  </tbody>\n",
              "</table>\n",
              "</div>"
            ],
            "text/plain": [
              "   acceleration  cylinders  displacement  ...  model year  origin  weight\n",
              "x             5          1             2  ...           6       1       4\n",
              "\n",
              "[1 rows x 7 columns]"
            ]
          },
          "metadata": {
            "tags": []
          },
          "execution_count": 67
        }
      ]
    },
    {
      "cell_type": "code",
      "metadata": {
        "id": "p5WQoUOwZS30",
        "colab_type": "code",
        "colab": {
          "base_uri": "https://localhost:8080/",
          "height": 34
        },
        "outputId": "ce34688f-87a5-4ec1-a305-36dc8aa8e3c4"
      },
      "source": [
        "model_reload.predict(testdata)[0]"
      ],
      "execution_count": 68,
      "outputs": [
        {
          "output_type": "execute_result",
          "data": {
            "text/plain": [
              "27.941999999999997"
            ]
          },
          "metadata": {
            "tags": []
          },
          "execution_count": 68
        }
      ]
    },
    {
      "cell_type": "code",
      "metadata": {
        "id": "C-DBzXP1wUb1",
        "colab_type": "code",
        "colab": {
          "base_uri": "https://localhost:8080/",
          "height": 357
        },
        "outputId": "8624de31-efdd-4b07-b53c-3f843be707a9"
      },
      "source": [
        "pipeline_obj=pipeline.Pipeline([\n",
        "                                ('mapper',mapper),\n",
        "                                ('model',LinearRegression())\n",
        "\n",
        "])\n",
        "X=['cylinders', 'displacement', 'horsepower', 'weight',\n",
        "       'acceleration', 'model year', 'origin']\n",
        "y=['mpg']\n",
        "pipeline_obj.fit(df[X],df[y])"
      ],
      "execution_count": 8,
      "outputs": [
        {
          "output_type": "execute_result",
          "data": {
            "text/plain": [
              "Pipeline(memory=None,\n",
              "         steps=[('mapper',\n",
              "                 DataFrameMapper(default=False, df_out=False,\n",
              "                                 features=[(['cylinders', 'displacement',\n",
              "                                             'weight', 'acceleration',\n",
              "                                             'model year'],\n",
              "                                            StandardScaler(copy=True,\n",
              "                                                           with_mean=True,\n",
              "                                                           with_std=True)),\n",
              "                                           (['origin'],\n",
              "                                            OneHotEncoder(categories='auto',\n",
              "                                                          drop=None,\n",
              "                                                          dtype=<class 'numpy.float64'>,\n",
              "                                                          handle_unknown='error',\n",
              "                                                          sparse=True))],\n",
              "                                 input_df=False, sparse=False)),\n",
              "                ('model',\n",
              "                 LinearRegression(copy_X=True, fit_intercept=True, n_jobs=None,\n",
              "                                  normalize=False))],\n",
              "         verbose=False)"
            ]
          },
          "metadata": {
            "tags": []
          },
          "execution_count": 8
        }
      ]
    },
    {
      "cell_type": "code",
      "metadata": {
        "id": "yQlPEt9NxUCu",
        "colab_type": "code",
        "colab": {
          "base_uri": "https://localhost:8080/",
          "height": 34
        },
        "outputId": "4b11700d-7791-4472-c20f-980e0c8d92e4"
      },
      "source": [
        "pipeline_obj.score(df[X],df[y])"
      ],
      "execution_count": 9,
      "outputs": [
        {
          "output_type": "execute_result",
          "data": {
            "text/plain": [
              "0.8239985496305645"
            ]
          },
          "metadata": {
            "tags": []
          },
          "execution_count": 9
        }
      ]
    },
    {
      "cell_type": "code",
      "metadata": {
        "id": "kFtCM7SnxlyE",
        "colab_type": "code",
        "colab": {
          "base_uri": "https://localhost:8080/",
          "height": 1000
        },
        "outputId": "1174f641-0db3-4631-f3e5-0d87332d3fc0"
      },
      "source": [
        "from sklearn.externals import joblib\n",
        "joblib.dump(pipeline_obj,'LRMautompg.pkl')\n",
        "model_reload=joblib.load('LRMautompg.pkl')\n",
        "model_reload.predict(df[X])"
      ],
      "execution_count": 10,
      "outputs": [
        {
          "output_type": "stream",
          "text": [
            "/usr/local/lib/python3.6/dist-packages/sklearn/externals/joblib/__init__.py:15: FutureWarning: sklearn.externals.joblib is deprecated in 0.21 and will be removed in 0.23. Please import this functionality directly from joblib, which can be installed with: pip install joblib. If this warning is raised when loading pickled models, you may need to re-serialize those models with scikit-learn 0.21+.\n",
            "  warnings.warn(msg, category=FutureWarning)\n"
          ],
          "name": "stderr"
        },
        {
          "output_type": "execute_result",
          "data": {
            "text/plain": [
              "array([[14.75847058],\n",
              "       [14.23058917],\n",
              "       [15.32858404],\n",
              "       [15.20841722],\n",
              "       [14.81367801],\n",
              "       [10.99149291],\n",
              "       [11.27442501],\n",
              "       [11.20051177],\n",
              "       [10.93914042],\n",
              "       [13.47671877],\n",
              "       [15.64125413],\n",
              "       [14.07403754],\n",
              "       [14.49234714],\n",
              "       [20.63433644],\n",
              "       [23.52035892],\n",
              "       [18.60072457],\n",
              "       [19.04930064],\n",
              "       [20.50338688],\n",
              "       [24.85181209],\n",
              "       [27.91707476],\n",
              "       [21.66234062],\n",
              "       [22.8781725 ],\n",
              "       [23.68453068],\n",
              "       [24.28180306],\n",
              "       [19.88290905],\n",
              "       [ 8.16207708],\n",
              "       [ 8.91690767],\n",
              "       [ 8.87250468],\n",
              "       [ 6.8260795 ],\n",
              "       [25.646209  ],\n",
              "       [23.03820068],\n",
              "       [25.19998522],\n",
              "       [24.26970096],\n",
              "       [21.16934823],\n",
              "       [15.5845423 ],\n",
              "       [16.9154917 ],\n",
              "       [17.11098856],\n",
              "       [16.82753118],\n",
              "       [11.36753416],\n",
              "       [10.51142614],\n",
              "       [12.02327849],\n",
              "       [11.65900989],\n",
              "       [ 6.59283269],\n",
              "       [ 8.54828033],\n",
              "       [ 5.69547433],\n",
              "       [19.42899365],\n",
              "       [22.54652256],\n",
              "       [17.17709079],\n",
              "       [18.13378982],\n",
              "       [22.73583126],\n",
              "       [26.00914389],\n",
              "       [26.43871581],\n",
              "       [25.90919194],\n",
              "       [28.38364424],\n",
              "       [29.40610285],\n",
              "       [28.48258153],\n",
              "       [25.01507394],\n",
              "       [25.86848167],\n",
              "       [24.15931728],\n",
              "       [26.9443085 ],\n",
              "       [23.41962972],\n",
              "       [23.8803357 ],\n",
              "       [11.69129048],\n",
              "       [11.95654263],\n",
              "       [12.2497327 ],\n",
              "       [12.91998075],\n",
              "       [14.98799155],\n",
              "       [10.62344492],\n",
              "       [10.27655889],\n",
              "       [10.60962761],\n",
              "       [11.76734978],\n",
              "       [24.63940094],\n",
              "       [13.5524747 ],\n",
              "       [12.36117454],\n",
              "       [11.14995704],\n",
              "       [12.74839917],\n",
              "       [21.12424146],\n",
              "       [24.73075673],\n",
              "       [21.55689606],\n",
              "       [26.52775704],\n",
              "       [22.57795992],\n",
              "       [25.69013853],\n",
              "       [24.20985341],\n",
              "       [23.58002214],\n",
              "       [26.97266565],\n",
              "       [13.90297653],\n",
              "       [15.78238846],\n",
              "       [14.71392646],\n",
              "       [13.53286052],\n",
              "       [15.47885262],\n",
              "       [ 9.18679291],\n",
              "       [12.17893021],\n",
              "       [12.02007156],\n",
              "       [12.46300643],\n",
              "       [10.91446966],\n",
              "       [ 9.67118323],\n",
              "       [15.822062  ],\n",
              "       [19.63327516],\n",
              "       [19.26710863],\n",
              "       [20.9785694 ],\n",
              "       [20.89181833],\n",
              "       [20.54854121],\n",
              "       [29.54630393],\n",
              "       [ 8.63451844],\n",
              "       [ 9.0572845 ],\n",
              "       [10.10546293],\n",
              "       [10.93525716],\n",
              "       [21.95068629],\n",
              "       [26.86454207],\n",
              "       [24.26471099],\n",
              "       [25.98209988],\n",
              "       [26.92536647],\n",
              "       [24.38136117],\n",
              "       [22.44234306],\n",
              "       [26.42107368],\n",
              "       [14.03330777],\n",
              "       [13.13213506],\n",
              "       [29.29114735],\n",
              "       [27.58064661],\n",
              "       [24.23173265],\n",
              "       [22.54669946],\n",
              "       [17.97967786],\n",
              "       [23.81661856],\n",
              "       [22.67389489],\n",
              "       [16.74504773],\n",
              "       [19.98800475],\n",
              "       [21.75309519],\n",
              "       [22.09155377],\n",
              "       [19.48412881],\n",
              "       [29.65627827],\n",
              "       [23.83998902],\n",
              "       [30.62551663],\n",
              "       [23.64462858],\n",
              "       [16.26205097],\n",
              "       [17.66935834],\n",
              "       [16.86528488],\n",
              "       [13.53172536],\n",
              "       [10.59637021],\n",
              "       [11.50704547],\n",
              "       [10.24797607],\n",
              "       [12.97070215],\n",
              "       [27.70595981],\n",
              "       [28.99593379],\n",
              "       [26.78324899],\n",
              "       [31.37801724],\n",
              "       [29.35804209],\n",
              "       [25.20145621],\n",
              "       [28.18121477],\n",
              "       [27.5017378 ],\n",
              "       [26.00044809],\n",
              "       [26.53218878],\n",
              "       [28.80674094],\n",
              "       [20.10794943],\n",
              "       [19.23050841],\n",
              "       [20.21310782],\n",
              "       [21.96090813],\n",
              "       [12.21192639],\n",
              "       [13.18737857],\n",
              "       [12.16199728],\n",
              "       [11.55883206],\n",
              "       [16.3676059 ],\n",
              "       [16.45266622],\n",
              "       [17.91159457],\n",
              "       [16.80784567],\n",
              "       [21.70794478],\n",
              "       [20.05361725],\n",
              "       [21.04916812],\n",
              "       [28.76306178],\n",
              "       [23.73668493],\n",
              "       [22.79182256],\n",
              "       [24.31312504],\n",
              "       [25.31577044],\n",
              "       [28.30036039],\n",
              "       [26.68283182],\n",
              "       [20.74471512],\n",
              "       [29.97762768],\n",
              "       [20.79877764],\n",
              "       [25.18837627],\n",
              "       [23.70582923],\n",
              "       [23.42054468],\n",
              "       [25.24705524],\n",
              "       [31.59339193],\n",
              "       [27.5557932 ],\n",
              "       [29.73530732],\n",
              "       [24.68562059],\n",
              "       [26.52374832],\n",
              "       [29.29307731],\n",
              "       [14.49143014],\n",
              "       [14.95037572],\n",
              "       [16.44360733],\n",
              "       [15.44339057],\n",
              "       [21.03235339],\n",
              "       [20.55628073],\n",
              "       [22.44437577],\n",
              "       [22.59994552],\n",
              "       [28.547148  ],\n",
              "       [27.87529539],\n",
              "       [30.80350868],\n",
              "       [32.37204678],\n",
              "       [18.36783958],\n",
              "       [19.97933607],\n",
              "       [18.70963328],\n",
              "       [22.40530214],\n",
              "       [31.44927219],\n",
              "       [30.76888146],\n",
              "       [29.73627688],\n",
              "       [24.5316583 ],\n",
              "       [23.11193126],\n",
              "       [16.79201592],\n",
              "       [23.00527122],\n",
              "       [24.48132983],\n",
              "       [18.46738493],\n",
              "       [14.11711396],\n",
              "       [16.45457483],\n",
              "       [17.24014888],\n",
              "       [18.25746783],\n",
              "       [31.67910476],\n",
              "       [27.86361816],\n",
              "       [32.86633425],\n",
              "       [27.1590935 ],\n",
              "       [31.85762235],\n",
              "       [17.63272595],\n",
              "       [16.39058158],\n",
              "       [16.2169982 ],\n",
              "       [14.94153838],\n",
              "       [20.44059234],\n",
              "       [20.80095655],\n",
              "       [19.31428959],\n",
              "       [20.81368254],\n",
              "       [16.98155171],\n",
              "       [16.35805075],\n",
              "       [16.39444871],\n",
              "       [15.63652742],\n",
              "       [31.77306447],\n",
              "       [24.67192668],\n",
              "       [30.01756202],\n",
              "       [24.2966617 ],\n",
              "       [28.68503824],\n",
              "       [28.33810069],\n",
              "       [31.76157992],\n",
              "       [29.89994018],\n",
              "       [25.73718573],\n",
              "       [27.23973902],\n",
              "       [26.00133426],\n",
              "       [33.19392225],\n",
              "       [30.88753853],\n",
              "       [32.62203301],\n",
              "       [32.03029813],\n",
              "       [33.76721696],\n",
              "       [21.66624062],\n",
              "       [19.86513772],\n",
              "       [20.65480487],\n",
              "       [21.16095195],\n",
              "       [23.0922126 ],\n",
              "       [24.090122  ],\n",
              "       [25.28151225],\n",
              "       [21.47810112],\n",
              "       [23.22069308],\n",
              "       [21.74801899],\n",
              "       [23.4715349 ],\n",
              "       [20.33851325],\n",
              "       [21.99784509],\n",
              "       [21.83180129],\n",
              "       [20.89956918],\n",
              "       [23.04575994],\n",
              "       [17.44583257],\n",
              "       [28.64769995],\n",
              "       [28.83732417],\n",
              "       [30.47790832],\n",
              "       [27.93946671],\n",
              "       [29.25760457],\n",
              "       [25.64721097],\n",
              "       [24.8855246 ],\n",
              "       [29.74912687],\n",
              "       [26.68900859],\n",
              "       [24.38490358],\n",
              "       [27.07873366],\n",
              "       [22.77626012],\n",
              "       [32.09736453],\n",
              "       [31.5227465 ],\n",
              "       [23.45693198],\n",
              "       [25.08131252],\n",
              "       [25.14410198],\n",
              "       [23.77427615],\n",
              "       [22.68488942],\n",
              "       [19.96766421],\n",
              "       [20.4213573 ],\n",
              "       [19.77211182],\n",
              "       [20.28651633],\n",
              "       [17.0858946 ],\n",
              "       [19.22845257],\n",
              "       [20.79383203],\n",
              "       [20.04165015],\n",
              "       [33.22072356],\n",
              "       [32.99870384],\n",
              "       [30.84926363],\n",
              "       [25.96876681],\n",
              "       [24.18785449],\n",
              "       [20.81013308],\n",
              "       [26.87319517],\n",
              "       [23.11712061],\n",
              "       [28.74643568],\n",
              "       [29.37608177],\n",
              "       [33.28117856],\n",
              "       [31.88934838],\n",
              "       [26.7675642 ],\n",
              "       [26.27791844],\n",
              "       [25.7695257 ],\n",
              "       [27.15221794],\n",
              "       [32.73203115],\n",
              "       [34.47463664],\n",
              "       [30.3324951 ],\n",
              "       [33.66341789],\n",
              "       [27.58274636],\n",
              "       [26.20924778],\n",
              "       [25.79625728],\n",
              "       [23.65781628],\n",
              "       [32.56522701],\n",
              "       [29.53743037],\n",
              "       [30.7766277 ],\n",
              "       [31.14368462],\n",
              "       [32.16366272],\n",
              "       [33.24065184],\n",
              "       [26.47570326],\n",
              "       [33.42391927],\n",
              "       [34.09013773],\n",
              "       [32.59482266],\n",
              "       [27.82481722],\n",
              "       [26.86778922],\n",
              "       [34.58468622],\n",
              "       [35.10074742],\n",
              "       [33.23814356],\n",
              "       [34.79901708],\n",
              "       [27.41485659],\n",
              "       [30.18549948],\n",
              "       [30.73043858],\n",
              "       [25.35762799],\n",
              "       [32.2446248 ],\n",
              "       [29.27037657],\n",
              "       [28.67274806],\n",
              "       [28.57341255],\n",
              "       [27.13007774],\n",
              "       [29.5898647 ],\n",
              "       [36.29839528],\n",
              "       [32.78597269],\n",
              "       [36.1790142 ],\n",
              "       [34.58030631],\n",
              "       [35.22728457],\n",
              "       [34.43917158],\n",
              "       [34.74792396],\n",
              "       [30.49423499],\n",
              "       [31.78013319],\n",
              "       [30.06291633],\n",
              "       [33.26430368],\n",
              "       [32.46799918],\n",
              "       [33.20897833],\n",
              "       [32.59447937],\n",
              "       [30.59604442],\n",
              "       [31.02358294],\n",
              "       [27.47971376],\n",
              "       [27.18297874],\n",
              "       [28.47056435],\n",
              "       [27.97190719],\n",
              "       [23.87778785],\n",
              "       [23.91790897],\n",
              "       [25.99010006],\n",
              "       [23.51341767],\n",
              "       [29.3543194 ],\n",
              "       [28.94347704],\n",
              "       [30.6229777 ],\n",
              "       [29.03630839],\n",
              "       [29.85857778],\n",
              "       [28.99495535],\n",
              "       [27.56662984],\n",
              "       [27.21631932],\n",
              "       [35.75239426],\n",
              "       [35.59902102],\n",
              "       [35.90280305],\n",
              "       [31.90880399],\n",
              "       [32.16844271],\n",
              "       [34.65907848],\n",
              "       [34.05532041],\n",
              "       [34.16488389],\n",
              "       [35.52971284],\n",
              "       [35.6399072 ],\n",
              "       [35.50139872],\n",
              "       [27.10076906],\n",
              "       [28.42009521],\n",
              "       [29.63697336],\n",
              "       [28.71996355],\n",
              "       [31.42121237],\n",
              "       [30.50861302],\n",
              "       [27.32802675],\n",
              "       [27.98374026],\n",
              "       [35.95927752],\n",
              "       [30.83127113],\n",
              "       [29.22312023],\n",
              "       [28.6398181 ]])"
            ]
          },
          "metadata": {
            "tags": []
          },
          "execution_count": 10
        }
      ]
    }
  ]
}